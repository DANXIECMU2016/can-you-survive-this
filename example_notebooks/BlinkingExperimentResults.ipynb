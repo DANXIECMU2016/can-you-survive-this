{
 "cells": [
  {
   "cell_type": "markdown",
   "metadata": {},
   "source": [
    "# Blinking Experiment - Results\n",
    "\n",
    "You can use this notebook to analyze the data we collected during the workshop."
   ]
  },
  {
   "cell_type": "code",
   "execution_count": 1,
   "metadata": {},
   "outputs": [],
   "source": [
    "import pandas as pd\n",
    "from lifelines import KaplanMeierFitter"
   ]
  },
  {
   "cell_type": "markdown",
   "metadata": {},
   "source": [
    "## Load the data and add a 'censored' column"
   ]
  },
  {
   "cell_type": "code",
   "execution_count": 5,
   "metadata": {},
   "outputs": [],
   "source": [
    "blinking_data = pd.read_csv('../data/Blinking experiment - results.csv')"
   ]
  },
  {
   "cell_type": "code",
   "execution_count": 6,
   "metadata": {},
   "outputs": [
    {
     "data": {
      "text/html": [
       "<div>\n",
       "<style scoped>\n",
       "    .dataframe tbody tr th:only-of-type {\n",
       "        vertical-align: middle;\n",
       "    }\n",
       "\n",
       "    .dataframe tbody tr th {\n",
       "        vertical-align: top;\n",
       "    }\n",
       "\n",
       "    .dataframe thead th {\n",
       "        text-align: right;\n",
       "    }\n",
       "</style>\n",
       "<table border=\"1\" class=\"dataframe\">\n",
       "  <thead>\n",
       "    <tr style=\"text-align: right;\">\n",
       "      <th></th>\n",
       "      <th>Name / pseudonym</th>\n",
       "      <th>Number of seconds without blinking</th>\n",
       "      <th>Wearing glasses / contacts / None</th>\n",
       "      <th>censored</th>\n",
       "    </tr>\n",
       "  </thead>\n",
       "  <tbody>\n",
       "    <tr>\n",
       "      <th>0</th>\n",
       "      <td>2</td>\n",
       "      <td>4</td>\n",
       "      <td>Contacts</td>\n",
       "      <td>False</td>\n",
       "    </tr>\n",
       "    <tr>\n",
       "      <th>1</th>\n",
       "      <td>3</td>\n",
       "      <td>5</td>\n",
       "      <td>Glasses</td>\n",
       "      <td>False</td>\n",
       "    </tr>\n",
       "    <tr>\n",
       "      <th>2</th>\n",
       "      <td>4</td>\n",
       "      <td>8</td>\n",
       "      <td>NaN</td>\n",
       "      <td>False</td>\n",
       "    </tr>\n",
       "    <tr>\n",
       "      <th>3</th>\n",
       "      <td>5</td>\n",
       "      <td>10</td>\n",
       "      <td>NaN</td>\n",
       "      <td>False</td>\n",
       "    </tr>\n",
       "    <tr>\n",
       "      <th>4</th>\n",
       "      <td>6</td>\n",
       "      <td>12</td>\n",
       "      <td>NaN</td>\n",
       "      <td>False</td>\n",
       "    </tr>\n",
       "  </tbody>\n",
       "</table>\n",
       "</div>"
      ],
      "text/plain": [
       "   Name / pseudonym  Number of seconds without blinking  \\\n",
       "0                 2                                   4   \n",
       "1                 3                                   5   \n",
       "2                 4                                   8   \n",
       "3                 5                                  10   \n",
       "4                 6                                  12   \n",
       "\n",
       "  Wearing glasses / contacts / None  censored  \n",
       "0                          Contacts     False  \n",
       "1                           Glasses     False  \n",
       "2                               NaN     False  \n",
       "3                               NaN     False  \n",
       "4                               NaN     False  "
      ]
     },
     "execution_count": 6,
     "metadata": {},
     "output_type": "execute_result"
    }
   ],
   "source": [
    "blinking_data = blinking_data.assign(\n",
    "    censored=lambda df: df['Number of seconds without blinking'] >= 30)\n",
    "\n",
    "blinking_data.head()"
   ]
  },
  {
   "cell_type": "markdown",
   "metadata": {},
   "source": [
    "## Survival curve using the Kaplan-Meier fitter"
   ]
  },
  {
   "cell_type": "code",
   "execution_count": 7,
   "metadata": {},
   "outputs": [],
   "source": [
    "kmf = KaplanMeierFitter()"
   ]
  },
  {
   "cell_type": "markdown",
   "metadata": {},
   "source": [
    "### Overall survival curve for all people"
   ]
  },
  {
   "cell_type": "code",
   "execution_count": 15,
   "metadata": {},
   "outputs": [
    {
     "data": {
      "image/png": "[encoded data removed]",
      "text/plain": [
       "<Figure size 432x288 with 1 Axes>"
      ]
     },
     "metadata": {},
     "output_type": "display_data"
    }
   ],
   "source": [
    "kmf.fit(blinking_data['Number of seconds without blinking'],\n",
    "        ~blinking_data['censored'],  # note that observed is the opposite of censored, so we need to add the tilde (~)\n",
    "        label='KM estimate for all observations')\n",
    "kmf.plot();"
   ]
  },
  {
   "cell_type": "markdown",
   "metadata": {},
   "source": [
    "### Survival curve separated by eyewear"
   ]
  },
  {
   "cell_type": "code",
   "execution_count": 17,
   "metadata": {},
   "outputs": [
    {
     "data": {
      "image/png": "[encoded data removed]",
      "text/plain": [
       "<Figure size 432x288 with 1 Axes>"
      ]
     },
     "metadata": {},
     "output_type": "display_data"
    }
   ],
   "source": [
    "glasses = blinking_data['Wearing glasses / contacts / None'] == 'Glasses'\n",
    "contacts = blinking_data['Wearing glasses / contacts / None'] == 'Contacts'\n",
    "no_eyewear = blinking_data['Wearing glasses / contacts / None'].isnull()\n",
    "\n",
    "kmf.fit(blinking_data.loc[glasses, 'Number of seconds without blinking'],\n",
    "        ~blinking_data.loc[glasses, 'censored'],  # note that observed is the opposite of censored, so we need to add the tilde (~)\n",
    "        label='KM estimate with glasses')\n",
    "ax1 = kmf.plot()\n",
    "\n",
    "kmf.fit(blinking_data.loc[contacts, 'Number of seconds without blinking'],\n",
    "        ~blinking_data.loc[contacts, 'censored'],  # note that observed is the opposite of censored, so we need to add the tilde (~)\n",
    "        label='KM estimate with contacts')\n",
    "ax2 = kmf.plot(ax=ax1)\n",
    "\n",
    "kmf.fit(blinking_data.loc[no_eyewear, 'Number of seconds without blinking'],\n",
    "        ~blinking_data.loc[no_eyewear, 'censored'],  # note that observed is the opposite of censored, so we need to add the tilde (~)\n",
    "        label='KM estimate with no eyewear')\n",
    "kmf.plot(ax=ax2);"
   ]
  },
  {
   "cell_type": "code",
   "execution_count": null,
   "metadata": {},
   "outputs": [],
   "source": []
  }
 ],
 "metadata": {
  "kernelspec": {
   "display_name": "Python 2",
   "language": "python",
   "name": "python2"
  },
  "language_info": {
   "codemirror_mode": {
    "name": "ipython",
    "version": 2
   },
   "file_extension": ".py",
   "mimetype": "text/x-python",
   "name": "python",
   "nbconvert_exporter": "python",
   "pygments_lexer": "ipython2",
   "version": "2.7.14"
  }
 },
 "nbformat": 4,
 "nbformat_minor": 2
}

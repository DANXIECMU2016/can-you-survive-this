{
 "cells": [
  {
   "cell_type": "code",
   "execution_count": null,
   "metadata": {
    "collapsed": true
   },
   "outputs": [],
   "source": [
    "# to do\n",
    "\n",
    "# add comments under results from log rank test\n",
    "# add comments under cox proportional hazards model\n",
    "\n",
    "# label x and y axis in all plots\n",
    "\n",
    "# combine some of the plots and put them on the same subplot\n",
    "\n",
    "# add more EDA "
   ]
  },
  {
   "cell_type": "code",
   "execution_count": 81,
   "metadata": {
    "collapsed": true
   },
   "outputs": [],
   "source": [
    "# general packages\n",
    "import pandas as pd\n",
    "import numpy as np\n",
    "\n",
    "# specialized stats packages\n",
    "from lifelines import KaplanMeierFitter\n",
    "\n",
    "# plotting\n",
    "import matplotlib.pyplot as plt\n",
    "import seaborn as sns\n",
    "\n",
    "# preferences\n",
    "%matplotlib inline\n",
    "import warnings\n",
    "warnings.filterwarnings('ignore')"
   ]
  },
  {
   "cell_type": "markdown",
   "metadata": {},
   "source": [
    "# Data"
   ]
  },
  {
   "cell_type": "markdown",
   "metadata": {},
   "source": [
    "I will use one of default datasets from lifetimes library. I don't know much about it and would prefer to avoid jumping to conclusions so I will pretend this data comes actually from a survey among 26 vampires collected a 100 years ago. "
   ]
  },
  {
   "cell_type": "code",
   "execution_count": 2,
   "metadata": {
    "collapsed": true
   },
   "outputs": [],
   "source": [
    "# data\n",
    "from lifelines.datasets import load_psychiatric_patients\n",
    "\n",
    "df = load_psychiatric_patients()"
   ]
  },
  {
   "cell_type": "code",
   "execution_count": 126,
   "metadata": {},
   "outputs": [
    {
     "data": {
      "text/html": [
       "<div>\n",
       "<style scoped>\n",
       "    .dataframe tbody tr th:only-of-type {\n",
       "        vertical-align: middle;\n",
       "    }\n",
       "\n",
       "    .dataframe tbody tr th {\n",
       "        vertical-align: top;\n",
       "    }\n",
       "\n",
       "    .dataframe thead th {\n",
       "        text-align: right;\n",
       "    }\n",
       "</style>\n",
       "<table border=\"1\" class=\"dataframe\">\n",
       "  <thead>\n",
       "    <tr style=\"text-align: right;\">\n",
       "      <th></th>\n",
       "      <th>Age</th>\n",
       "      <th>T</th>\n",
       "      <th>C</th>\n",
       "      <th>sex</th>\n",
       "    </tr>\n",
       "  </thead>\n",
       "  <tbody>\n",
       "    <tr>\n",
       "      <th>0</th>\n",
       "      <td>51</td>\n",
       "      <td>1</td>\n",
       "      <td>1</td>\n",
       "      <td>2</td>\n",
       "    </tr>\n",
       "    <tr>\n",
       "      <th>1</th>\n",
       "      <td>58</td>\n",
       "      <td>1</td>\n",
       "      <td>1</td>\n",
       "      <td>2</td>\n",
       "    </tr>\n",
       "    <tr>\n",
       "      <th>2</th>\n",
       "      <td>55</td>\n",
       "      <td>2</td>\n",
       "      <td>1</td>\n",
       "      <td>2</td>\n",
       "    </tr>\n",
       "    <tr>\n",
       "      <th>3</th>\n",
       "      <td>28</td>\n",
       "      <td>22</td>\n",
       "      <td>1</td>\n",
       "      <td>2</td>\n",
       "    </tr>\n",
       "    <tr>\n",
       "      <th>4</th>\n",
       "      <td>21</td>\n",
       "      <td>30</td>\n",
       "      <td>0</td>\n",
       "      <td>1</td>\n",
       "    </tr>\n",
       "  </tbody>\n",
       "</table>\n",
       "</div>"
      ],
      "text/plain": [
       "   Age   T  C  sex\n",
       "0   51   1  1    2\n",
       "1   58   1  1    2\n",
       "2   55   2  1    2\n",
       "3   28  22  1    2\n",
       "4   21  30  0    1"
      ]
     },
     "execution_count": 126,
     "metadata": {},
     "output_type": "execute_result"
    }
   ],
   "source": [
    "df.head()\n"
   ]
  },
  {
   "cell_type": "code",
   "execution_count": 148,
   "metadata": {},
   "outputs": [
    {
     "data": {
      "text/html": [
       "<div>\n",
       "<style scoped>\n",
       "    .dataframe tbody tr th:only-of-type {\n",
       "        vertical-align: middle;\n",
       "    }\n",
       "\n",
       "    .dataframe tbody tr th {\n",
       "        vertical-align: top;\n",
       "    }\n",
       "\n",
       "    .dataframe thead th {\n",
       "        text-align: right;\n",
       "    }\n",
       "</style>\n",
       "<table border=\"1\" class=\"dataframe\">\n",
       "  <thead>\n",
       "    <tr style=\"text-align: right;\">\n",
       "      <th></th>\n",
       "      <th>Age</th>\n",
       "      <th>T</th>\n",
       "      <th>C</th>\n",
       "      <th>sex</th>\n",
       "    </tr>\n",
       "  </thead>\n",
       "  <tbody>\n",
       "    <tr>\n",
       "      <th>count</th>\n",
       "      <td>26.000000</td>\n",
       "      <td>26.000000</td>\n",
       "      <td>26.000000</td>\n",
       "      <td>26.000000</td>\n",
       "    </tr>\n",
       "    <tr>\n",
       "      <th>mean</th>\n",
       "      <td>35.153846</td>\n",
       "      <td>26.423077</td>\n",
       "      <td>0.538462</td>\n",
       "      <td>1.576923</td>\n",
       "    </tr>\n",
       "    <tr>\n",
       "      <th>std</th>\n",
       "      <td>10.479284</td>\n",
       "      <td>11.559146</td>\n",
       "      <td>0.508391</td>\n",
       "      <td>0.503831</td>\n",
       "    </tr>\n",
       "    <tr>\n",
       "      <th>min</th>\n",
       "      <td>19.000000</td>\n",
       "      <td>1.000000</td>\n",
       "      <td>0.000000</td>\n",
       "      <td>1.000000</td>\n",
       "    </tr>\n",
       "    <tr>\n",
       "      <th>25%</th>\n",
       "      <td>28.250000</td>\n",
       "      <td>22.500000</td>\n",
       "      <td>0.000000</td>\n",
       "      <td>1.000000</td>\n",
       "    </tr>\n",
       "    <tr>\n",
       "      <th>50%</th>\n",
       "      <td>32.500000</td>\n",
       "      <td>30.500000</td>\n",
       "      <td>1.000000</td>\n",
       "      <td>2.000000</td>\n",
       "    </tr>\n",
       "    <tr>\n",
       "      <th>75%</th>\n",
       "      <td>42.500000</td>\n",
       "      <td>34.750000</td>\n",
       "      <td>1.000000</td>\n",
       "      <td>2.000000</td>\n",
       "    </tr>\n",
       "    <tr>\n",
       "      <th>max</th>\n",
       "      <td>58.000000</td>\n",
       "      <td>40.000000</td>\n",
       "      <td>1.000000</td>\n",
       "      <td>2.000000</td>\n",
       "    </tr>\n",
       "  </tbody>\n",
       "</table>\n",
       "</div>"
      ],
      "text/plain": [
       "             Age          T          C        sex\n",
       "count  26.000000  26.000000  26.000000  26.000000\n",
       "mean   35.153846  26.423077   0.538462   1.576923\n",
       "std    10.479284  11.559146   0.508391   0.503831\n",
       "min    19.000000   1.000000   0.000000   1.000000\n",
       "25%    28.250000  22.500000   0.000000   1.000000\n",
       "50%    32.500000  30.500000   1.000000   2.000000\n",
       "75%    42.500000  34.750000   1.000000   2.000000\n",
       "max    58.000000  40.000000   1.000000   2.000000"
      ]
     },
     "execution_count": 148,
     "metadata": {},
     "output_type": "execute_result"
    }
   ],
   "source": [
    "df.describe()"
   ]
  },
  {
   "cell_type": "markdown",
   "metadata": {},
   "source": [
    "# Plotting lifetimes"
   ]
  },
  {
   "cell_type": "code",
   "execution_count": 70,
   "metadata": {
    "collapsed": true
   },
   "outputs": [],
   "source": [
    "# the function below is a modified version of plotting function from the lifetimes library. All credit should go to\n",
    "# them and all faults are mine.\n",
    "\n",
    "def plot_lifetimes(lifetimes, event_observed=None, birthtimes=None,\n",
    "                   order=False, block=True):\n",
    "    \"\"\"\n",
    "    Parameters:\n",
    "      lifetimes: an (n,) numpy array of lifetimes.\n",
    "      event_observed: an (n,) numpy array of booleans: True if event observed, else False.\n",
    "      birthtimes: an (n,) numpy array offsetting the births away from t=0.\n",
    "    Creates a lifetime plot, see\n",
    "    examples:\n",
    "    \"\"\"\n",
    "    from matplotlib import pyplot as plt\n",
    "\n",
    "    N = lifetimes.shape[0]\n",
    "    if N > 100:\n",
    "        print(\"warning: you may want to subsample to less than 100 individuals.\")\n",
    "\n",
    "    if event_observed is None:\n",
    "        event_observed = np.ones(N, dtype=bool)\n",
    "\n",
    "    if birthtimes is None:\n",
    "        birthtimes = np.zeros(N)\n",
    "\n",
    "    if order:\n",
    "        \"\"\"order by length of lifetimes; probably not very informative.\"\"\"\n",
    "        ix = np.argsort(lifetimes, 0)\n",
    "        lifetimes = lifetimes[ix, 0]\n",
    "        event_observed = event_observed[ix, 0]\n",
    "        birthtimes = birthtimes[ix]\n",
    "    \n",
    "    fig, ax = plt.subplots(figsize=[15,5], frameon=False)\n",
    "    ax.spines['top'].set_visible(False)\n",
    "    ax.spines['right'].set_visible(False)\n",
    "    for i in range(N):\n",
    "        c = \"#663366\" if event_observed[i] else \"green\"\n",
    "        l = 'burned by the sun rays or an angry mob' if event_observed[i] else \"alive\"\n",
    "        \n",
    "        plt.hlines(N - 1 - i, birthtimes[i], birthtimes[i] + lifetimes[i], color=c, lw=3, label=l if (i == 0) or (i==40)  else \"\")\n",
    "        m = \"|\" if not event_observed[i] else 'o'\n",
    "        plt.scatter((birthtimes[i]) + lifetimes[i], N - 1 - i, color=c, s=30, marker=m)\n",
    "        plt.legend(fontsize=16)\n",
    "\n",
    "    plt.xlabel(\"Number of years since becoming a vampire\", size=18)\n",
    "    plt.ylabel(\"Individual vampires\", size=20)\n",
    "    plt.vlines(current_time, 0, N, lw=2, linestyles='--', alpha=0.5)\n",
    "    plt.xticks(fontsize=18)\n",
    "    plt.ylim(-0.5, N)\n",
    "    return"
   ]
  },
  {
   "cell_type": "code",
   "execution_count": 71,
   "metadata": {},
   "outputs": [
    {
     "data": {
      "image/png": "[encoded data removed]",
      "text/plain": [
       "<Figure size 1080x360 with 1 Axes>"
      ]
     },
     "metadata": {},
     "output_type": "display_data"
    }
   ],
   "source": [
    "current_time = 25\n",
    "actual_lifetimes = df['T'].values\n",
    "observed_lifetimes = actual_lifetimes\n",
    "observed = actual_lifetimes < current_time\n",
    "\n",
    "plot_lifetimes(observed_lifetimes, event_observed=observed, block=True)"
   ]
  },
  {
   "cell_type": "code",
   "execution_count": 147,
   "metadata": {},
   "outputs": [
    {
     "data": {
      "image/png": "[encoded data removed]",
      "text/plain": [
       "<Figure size 360x360 with 1 Axes>"
      ]
     },
     "metadata": {},
     "output_type": "display_data"
    }
   ],
   "source": [
    "\n",
    "sns.catplot(x=\"C\", y=\"Age\", kind=\"boxen\",\n",
    "            data=df.sort_values(\"C\"));\n",
    "plt.xlabel('Vampire dead or not', size=18)\n",
    "plt.ylabel('Age', size=18)\n",
    "plt.title('Vampire survival as a function of age', size=18);\n"
   ]
  },
  {
   "cell_type": "markdown",
   "metadata": {},
   "source": [
    "# Kaplan-Meier curve"
   ]
  },
  {
   "cell_type": "code",
   "execution_count": 6,
   "metadata": {
    "collapsed": true
   },
   "outputs": [],
   "source": [
    "kmf = KaplanMeierFitter()\n",
    "T = df[\"T\"] #duration\n",
    "C = df[\"C\"] "
   ]
  },
  {
   "cell_type": "code",
   "execution_count": 7,
   "metadata": {
    "collapsed": true
   },
   "outputs": [],
   "source": [
    "kmf.fit(T,C);"
   ]
  },
  {
   "cell_type": "code",
   "execution_count": 8,
   "metadata": {},
   "outputs": [
    {
     "data": {
      "text/plain": [
       "<matplotlib.axes._subplots.AxesSubplot at 0x7f0dca0a1a58>"
      ]
     },
     "execution_count": 8,
     "metadata": {},
     "output_type": "execute_result"
    },
    {
     "data": {
      "image/png": "[encoded data removed]",
      "text/plain": [
       "<Figure size 432x288 with 1 Axes>"
      ]
     },
     "metadata": {},
     "output_type": "display_data"
    }
   ],
   "source": [
    "kmf.survival_function_\n",
    "kmf.median_\n",
    "kmf.plot()"
   ]
  },
  {
   "cell_type": "markdown",
   "metadata": {},
   "source": [
    "## Kaplan-Meier curve plotted separately for vampires who define themselves as men or women"
   ]
  },
  {
   "cell_type": "markdown",
   "metadata": {},
   "source": [
    "Unfortunately gender in this dataset is binary, even though in overall vampires are very supportive of their queer community."
   ]
  },
  {
   "cell_type": "code",
   "execution_count": 89,
   "metadata": {},
   "outputs": [
    {
     "data": {
      "text/plain": [
       "<matplotlib.axes._subplots.AxesSubplot at 0x7f0dc9aa4eb8>"
      ]
     },
     "execution_count": 89,
     "metadata": {},
     "output_type": "execute_result"
    },
    {
     "data": {
      "text/plain": [
       "<Figure size 720x720 with 0 Axes>"
      ]
     },
     "metadata": {},
     "output_type": "display_data"
    },
    {
     "data": {
      "image/png": "[encoded data removed]",
      "text/plain": [
       "<Figure size 720x720 with 1 Axes>"
      ]
     },
     "metadata": {},
     "output_type": "display_data"
    }
   ],
   "source": [
    "# plot both genders on the same plot\n",
    "plt.figure(figsize=[10,10])\n",
    "\n",
    "groups = df['sex']\n",
    "ix = (groups == 1)\n",
    "\n",
    "kmf.fit(T[~ix], C[~ix], label='1')\n",
    "ax = kmf.plot(figsize=[10,10])\n",
    "\n",
    "kmf.fit(T[ix], C[ix], label='2')\n",
    "kmf.plot(ax=ax)"
   ]
  },
  {
   "cell_type": "markdown",
   "metadata": {},
   "source": [
    "# Hazard rate using Nelson-Aalen estimator"
   ]
  },
  {
   "cell_type": "code",
   "execution_count": 22,
   "metadata": {},
   "outputs": [
    {
     "data": {
      "text/plain": [
       "<matplotlib.axes._subplots.AxesSubplot at 0x7f0dc9c6ca90>"
      ]
     },
     "execution_count": 22,
     "metadata": {},
     "output_type": "execute_result"
    },
    {
     "data": {
      "image/png": "[encoded data removed]",
      "text/plain": [
       "<Figure size 432x288 with 1 Axes>"
      ]
     },
     "metadata": {},
     "output_type": "display_data"
    }
   ],
   "source": [
    "from lifelines import NelsonAalenFitter\n",
    "naf = NelsonAalenFitter()\n",
    "\n",
    "naf.fit(T,event_observed=C);\n",
    "naf.plot()"
   ]
  },
  {
   "cell_type": "code",
   "execution_count": 90,
   "metadata": {},
   "outputs": [
    {
     "data": {
      "text/plain": [
       "<matplotlib.axes._subplots.AxesSubplot at 0x7f0dc9572470>"
      ]
     },
     "execution_count": 90,
     "metadata": {},
     "output_type": "execute_result"
    },
    {
     "data": {
      "image/png": "[encoded data removed]",
      "text/plain": [
       "<Figure size 720x720 with 1 Axes>"
      ]
     },
     "metadata": {},
     "output_type": "display_data"
    }
   ],
   "source": [
    "naf.fit(T[~ix], C[~ix], label='1')\n",
    "ax = naf.plot(figsize=[10,10])\n",
    "\n",
    "naf.fit(T[ix], C[ix], label='2')\n",
    "naf.plot(ax=ax)"
   ]
  },
  {
   "cell_type": "markdown",
   "metadata": {},
   "source": [
    "# Statistical analysis of differences"
   ]
  },
  {
   "cell_type": "markdown",
   "metadata": {},
   "source": [
    "## Is there a difference between survival rate for two groups? Log rank test"
   ]
  },
  {
   "cell_type": "code",
   "execution_count": 12,
   "metadata": {},
   "outputs": [
    {
     "name": "stdout",
     "output_type": "stream",
     "text": [
      "Results\n",
      "   t 0: -1\n",
      "   test: logrank\n",
      "   alpha: 0.95\n",
      "   null distribution: chi squared\n",
      "   df: 1\n",
      "\n",
      "   __ p-value ___|__ test statistic __|____ test result ____|__ is significant __\n",
      "         0.20485 |              1.607 |  Cannot Reject Null |       False       \n"
     ]
    }
   ],
   "source": [
    " from lifelines.statistics import logrank_test\n",
    "\n",
    " results = logrank_test(T[ix], T[~ix], event_observed_A=C[ix], event_observed_B=C[~ix])\n",
    " results.print_summary()"
   ]
  },
  {
   "cell_type": "code",
   "execution_count": 97,
   "metadata": {},
   "outputs": [
    {
     "data": {
      "text/plain": [
       "4.098143897765532"
      ]
     },
     "execution_count": 97,
     "metadata": {},
     "output_type": "execute_result"
    }
   ],
   "source": [
    "Z = results.test_statistic\n",
    "D = C.count()\n",
    "\n",
    "log_lambda = Z * np.sqrt (D / 4)\n",
    "log_lambda"
   ]
  },
  {
   "cell_type": "markdown",
   "metadata": {},
   "source": [
    "## What factors influence vampire's survival? Cox Proportional Hazards Model"
   ]
  },
  {
   "cell_type": "code",
   "execution_count": 14,
   "metadata": {},
   "outputs": [
    {
     "name": "stdout",
     "output_type": "stream",
     "text": [
      "Convergence completed after 5 iterations.\n",
      "n=26, number of events=14\n",
      "\n",
      "       coef  exp(coef)  se(coef)       z      p  lower 0.95  upper 0.95     \n",
      "Age  0.2075     1.2306    0.0583  3.5606 0.0004      0.0933      0.3218  ***\n",
      "sex -0.5237     0.5923    0.7375 -0.7101 0.4776     -1.9696      0.9221     \n",
      "---\n",
      "Signif. codes:  0 '***' 0.001 '**' 0.01 '*' 0.05 '.' 0.1 ' ' 1 \n",
      "\n",
      "Concordance = 0.816\n"
     ]
    }
   ],
   "source": [
    "from lifelines import CoxPHFitter\n",
    "\n",
    "cph = CoxPHFitter()\n",
    "cph.fit(df, duration_col='T', event_col='C', show_progress=True)\n",
    "\n",
    "cph.print_summary()  "
   ]
  },
  {
   "cell_type": "code",
   "execution_count": 129,
   "metadata": {},
   "outputs": [
    {
     "ename": "AttributeError",
     "evalue": "'list' object has no attribute 'shape'",
     "output_type": "error",
     "traceback": [
      "\u001b[0;31m---------------------------------------------------------------------------\u001b[0m",
      "\u001b[0;31mAttributeError\u001b[0m                            Traceback (most recent call last)",
      "\u001b[0;32m<ipython-input-129-4c3a0c77c8bd>\u001b[0m in \u001b[0;36m<module>\u001b[0;34m()\u001b[0m\n\u001b[0;32m----> 1\u001b[0;31m \u001b[0mcph\u001b[0m\u001b[0;34m.\u001b[0m\u001b[0mpredict_log_hazard_relative_to_mean\u001b[0m\u001b[0;34m(\u001b[0m\u001b[0;34m[\u001b[0m\u001b[0;36m23\u001b[0m\u001b[0;34m,\u001b[0m\u001b[0;36m15\u001b[0m\u001b[0;34m,\u001b[0m\u001b[0;36m0\u001b[0m\u001b[0;34m,\u001b[0m\u001b[0;36m1\u001b[0m\u001b[0;34m]\u001b[0m\u001b[0;34m)\u001b[0m\u001b[0;34m\u001b[0m\u001b[0m\n\u001b[0m",
      "\u001b[0;32m/wayfair/home/zklyszejko/virtualenvs/dscrm-development_36/lib/python3.6/site-packages/lifelines/fitters/coxph_fitter.py\u001b[0m in \u001b[0;36mpredict_log_hazard_relative_to_mean\u001b[0;34m(self, X)\u001b[0m\n\u001b[1;32m    441\u001b[0m         \"\"\"\n\u001b[1;32m    442\u001b[0m         \u001b[0mmean_covariates\u001b[0m \u001b[0;34m=\u001b[0m \u001b[0mself\u001b[0m\u001b[0;34m.\u001b[0m\u001b[0mdata\u001b[0m\u001b[0;34m.\u001b[0m\u001b[0mmean\u001b[0m\u001b[0;34m(\u001b[0m\u001b[0;36m0\u001b[0m\u001b[0;34m)\u001b[0m\u001b[0;34m.\u001b[0m\u001b[0mto_frame\u001b[0m\u001b[0;34m(\u001b[0m\u001b[0;34m)\u001b[0m\u001b[0;34m.\u001b[0m\u001b[0mT\u001b[0m\u001b[0;34m\u001b[0m\u001b[0m\n\u001b[0;32m--> 443\u001b[0;31m         \u001b[0;32mreturn\u001b[0m \u001b[0mself\u001b[0m\u001b[0;34m.\u001b[0m\u001b[0mpredict_log_partial_hazard\u001b[0m\u001b[0;34m(\u001b[0m\u001b[0mX\u001b[0m\u001b[0;34m)\u001b[0m \u001b[0;34m-\u001b[0m \u001b[0mself\u001b[0m\u001b[0;34m.\u001b[0m\u001b[0mpredict_log_partial_hazard\u001b[0m\u001b[0;34m(\u001b[0m\u001b[0mmean_covariates\u001b[0m\u001b[0;34m)\u001b[0m\u001b[0;34m.\u001b[0m\u001b[0msqueeze\u001b[0m\u001b[0;34m(\u001b[0m\u001b[0;34m)\u001b[0m\u001b[0;34m\u001b[0m\u001b[0m\n\u001b[0m\u001b[1;32m    444\u001b[0m \u001b[0;34m\u001b[0m\u001b[0m\n\u001b[1;32m    445\u001b[0m     \u001b[0;32mdef\u001b[0m \u001b[0mpredict_cumulative_hazard\u001b[0m\u001b[0;34m(\u001b[0m\u001b[0mself\u001b[0m\u001b[0;34m,\u001b[0m \u001b[0mX\u001b[0m\u001b[0;34m)\u001b[0m\u001b[0;34m:\u001b[0m\u001b[0;34m\u001b[0m\u001b[0m\n",
      "\u001b[0;32m/wayfair/home/zklyszejko/virtualenvs/dscrm-development_36/lib/python3.6/site-packages/lifelines/fitters/coxph_fitter.py\u001b[0m in \u001b[0;36mpredict_log_partial_hazard\u001b[0;34m(self, X)\u001b[0m\n\u001b[1;32m    427\u001b[0m             \u001b[0mX\u001b[0m \u001b[0;34m=\u001b[0m \u001b[0mX\u001b[0m\u001b[0;34m[\u001b[0m\u001b[0morder\u001b[0m\u001b[0;34m]\u001b[0m\u001b[0;34m\u001b[0m\u001b[0m\n\u001b[1;32m    428\u001b[0m \u001b[0;34m\u001b[0m\u001b[0m\n\u001b[0;32m--> 429\u001b[0;31m         \u001b[0mindex\u001b[0m \u001b[0;34m=\u001b[0m \u001b[0m_get_index\u001b[0m\u001b[0;34m(\u001b[0m\u001b[0mX\u001b[0m\u001b[0;34m)\u001b[0m\u001b[0;34m\u001b[0m\u001b[0m\n\u001b[0m\u001b[1;32m    430\u001b[0m         \u001b[0mX\u001b[0m \u001b[0;34m=\u001b[0m \u001b[0mnormalize\u001b[0m\u001b[0;34m(\u001b[0m\u001b[0mX\u001b[0m\u001b[0;34m,\u001b[0m \u001b[0mself\u001b[0m\u001b[0;34m.\u001b[0m\u001b[0m_norm_mean\u001b[0m\u001b[0;34m.\u001b[0m\u001b[0mvalues\u001b[0m\u001b[0;34m,\u001b[0m \u001b[0;36m1\u001b[0m\u001b[0;34m)\u001b[0m\u001b[0;34m\u001b[0m\u001b[0m\n\u001b[1;32m    431\u001b[0m         \u001b[0;32mreturn\u001b[0m \u001b[0mpd\u001b[0m\u001b[0;34m.\u001b[0m\u001b[0mDataFrame\u001b[0m\u001b[0;34m(\u001b[0m\u001b[0mnp\u001b[0m\u001b[0;34m.\u001b[0m\u001b[0mdot\u001b[0m\u001b[0;34m(\u001b[0m\u001b[0mX\u001b[0m\u001b[0;34m,\u001b[0m \u001b[0mself\u001b[0m\u001b[0;34m.\u001b[0m\u001b[0mhazards_\u001b[0m\u001b[0;34m.\u001b[0m\u001b[0mT\u001b[0m\u001b[0;34m)\u001b[0m\u001b[0;34m,\u001b[0m \u001b[0mindex\u001b[0m\u001b[0;34m=\u001b[0m\u001b[0mindex\u001b[0m\u001b[0;34m)\u001b[0m\u001b[0;34m\u001b[0m\u001b[0m\n",
      "\u001b[0;32m/wayfair/home/zklyszejko/virtualenvs/dscrm-development_36/lib/python3.6/site-packages/lifelines/utils/__init__.py\u001b[0m in \u001b[0;36m_get_index\u001b[0;34m(X)\u001b[0m\n\u001b[1;32m    638\u001b[0m     \u001b[0;32melse\u001b[0m\u001b[0;34m:\u001b[0m\u001b[0;34m\u001b[0m\u001b[0m\n\u001b[1;32m    639\u001b[0m         \u001b[0;31m# If it's not a dataframe, order is up to user\u001b[0m\u001b[0;34m\u001b[0m\u001b[0;34m\u001b[0m\u001b[0m\n\u001b[0;32m--> 640\u001b[0;31m         \u001b[0mindex\u001b[0m \u001b[0;34m=\u001b[0m \u001b[0mlist\u001b[0m\u001b[0;34m(\u001b[0m\u001b[0mrange\u001b[0m\u001b[0;34m(\u001b[0m\u001b[0mX\u001b[0m\u001b[0;34m.\u001b[0m\u001b[0mshape\u001b[0m\u001b[0;34m[\u001b[0m\u001b[0;36m0\u001b[0m\u001b[0;34m]\u001b[0m\u001b[0;34m)\u001b[0m\u001b[0;34m)\u001b[0m\u001b[0;34m\u001b[0m\u001b[0m\n\u001b[0m\u001b[1;32m    641\u001b[0m     \u001b[0;32mreturn\u001b[0m \u001b[0mindex\u001b[0m\u001b[0;34m\u001b[0m\u001b[0m\n\u001b[1;32m    642\u001b[0m \u001b[0;34m\u001b[0m\u001b[0m\n",
      "\u001b[0;31mAttributeError\u001b[0m: 'list' object has no attribute 'shape'"
     ]
    }
   ],
   "source": [
    "cph.predict_log_hazard_relative_to_mean([23,15,0,1])"
   ]
  },
  {
   "cell_type": "code",
   "execution_count": 138,
   "metadata": {},
   "outputs": [
    {
     "data": {
      "text/html": [
       "<div>\n",
       "<style scoped>\n",
       "    .dataframe tbody tr th:only-of-type {\n",
       "        vertical-align: middle;\n",
       "    }\n",
       "\n",
       "    .dataframe tbody tr th {\n",
       "        vertical-align: top;\n",
       "    }\n",
       "\n",
       "    .dataframe thead th {\n",
       "        text-align: right;\n",
       "    }\n",
       "</style>\n",
       "<table border=\"1\" class=\"dataframe\">\n",
       "  <thead>\n",
       "    <tr style=\"text-align: right;\">\n",
       "      <th></th>\n",
       "      <th>0</th>\n",
       "      <th>1</th>\n",
       "      <th>2</th>\n",
       "      <th>3</th>\n",
       "      <th>4</th>\n",
       "      <th>5</th>\n",
       "      <th>6</th>\n",
       "      <th>7</th>\n",
       "      <th>8</th>\n",
       "      <th>9</th>\n",
       "      <th>...</th>\n",
       "      <th>16</th>\n",
       "      <th>17</th>\n",
       "      <th>18</th>\n",
       "      <th>19</th>\n",
       "      <th>20</th>\n",
       "      <th>21</th>\n",
       "      <th>22</th>\n",
       "      <th>23</th>\n",
       "      <th>24</th>\n",
       "      <th>25</th>\n",
       "    </tr>\n",
       "    <tr>\n",
       "      <th>event_at</th>\n",
       "      <th></th>\n",
       "      <th></th>\n",
       "      <th></th>\n",
       "      <th></th>\n",
       "      <th></th>\n",
       "      <th></th>\n",
       "      <th></th>\n",
       "      <th></th>\n",
       "      <th></th>\n",
       "      <th></th>\n",
       "      <th></th>\n",
       "      <th></th>\n",
       "      <th></th>\n",
       "      <th></th>\n",
       "      <th></th>\n",
       "      <th></th>\n",
       "      <th></th>\n",
       "      <th></th>\n",
       "      <th></th>\n",
       "      <th></th>\n",
       "      <th></th>\n",
       "    </tr>\n",
       "  </thead>\n",
       "  <tbody>\n",
       "    <tr>\n",
       "      <th>0.0</th>\n",
       "      <td>0.000000</td>\n",
       "      <td>0.000000</td>\n",
       "      <td>0.000000</td>\n",
       "      <td>0.000000</td>\n",
       "      <td>0.000000</td>\n",
       "      <td>0.000000</td>\n",
       "      <td>0.000000</td>\n",
       "      <td>0.000000</td>\n",
       "      <td>0.000000</td>\n",
       "      <td>0.000000</td>\n",
       "      <td>...</td>\n",
       "      <td>0.000000</td>\n",
       "      <td>0.000000</td>\n",
       "      <td>0.000000</td>\n",
       "      <td>0.000000</td>\n",
       "      <td>0.000000</td>\n",
       "      <td>0.000000</td>\n",
       "      <td>0.000000</td>\n",
       "      <td>0.000000</td>\n",
       "      <td>0.000000</td>\n",
       "      <td>0.000000</td>\n",
       "    </tr>\n",
       "    <tr>\n",
       "      <th>1.0</th>\n",
       "      <td>0.207440</td>\n",
       "      <td>0.886713</td>\n",
       "      <td>0.475775</td>\n",
       "      <td>0.001754</td>\n",
       "      <td>0.000693</td>\n",
       "      <td>0.000457</td>\n",
       "      <td>0.000941</td>\n",
       "      <td>0.111304</td>\n",
       "      <td>0.090445</td>\n",
       "      <td>0.000941</td>\n",
       "      <td>...</td>\n",
       "      <td>0.004484</td>\n",
       "      <td>0.043962</td>\n",
       "      <td>0.039434</td>\n",
       "      <td>0.059721</td>\n",
       "      <td>0.007497</td>\n",
       "      <td>0.003644</td>\n",
       "      <td>0.012657</td>\n",
       "      <td>0.006791</td>\n",
       "      <td>0.009225</td>\n",
       "      <td>0.006791</td>\n",
       "    </tr>\n",
       "    <tr>\n",
       "      <th>2.0</th>\n",
       "      <td>0.436442</td>\n",
       "      <td>1.865590</td>\n",
       "      <td>1.001002</td>\n",
       "      <td>0.003690</td>\n",
       "      <td>0.001457</td>\n",
       "      <td>0.000962</td>\n",
       "      <td>0.001980</td>\n",
       "      <td>0.234177</td>\n",
       "      <td>0.190291</td>\n",
       "      <td>0.001980</td>\n",
       "      <td>...</td>\n",
       "      <td>0.009434</td>\n",
       "      <td>0.092494</td>\n",
       "      <td>0.082968</td>\n",
       "      <td>0.125650</td>\n",
       "      <td>0.015772</td>\n",
       "      <td>0.007666</td>\n",
       "      <td>0.026629</td>\n",
       "      <td>0.014288</td>\n",
       "      <td>0.019410</td>\n",
       "      <td>0.014288</td>\n",
       "    </tr>\n",
       "    <tr>\n",
       "      <th>11.0</th>\n",
       "      <td>0.918781</td>\n",
       "      <td>3.927368</td>\n",
       "      <td>2.107270</td>\n",
       "      <td>0.007768</td>\n",
       "      <td>0.003068</td>\n",
       "      <td>0.002026</td>\n",
       "      <td>0.004168</td>\n",
       "      <td>0.492981</td>\n",
       "      <td>0.400593</td>\n",
       "      <td>0.004168</td>\n",
       "      <td>...</td>\n",
       "      <td>0.019861</td>\n",
       "      <td>0.194715</td>\n",
       "      <td>0.174661</td>\n",
       "      <td>0.264514</td>\n",
       "      <td>0.033203</td>\n",
       "      <td>0.016139</td>\n",
       "      <td>0.056058</td>\n",
       "      <td>0.030078</td>\n",
       "      <td>0.040861</td>\n",
       "      <td>0.030078</td>\n",
       "    </tr>\n",
       "    <tr>\n",
       "      <th>14.0</th>\n",
       "      <td>1.569538</td>\n",
       "      <td>6.709059</td>\n",
       "      <td>3.599816</td>\n",
       "      <td>0.013269</td>\n",
       "      <td>0.005241</td>\n",
       "      <td>0.003461</td>\n",
       "      <td>0.007120</td>\n",
       "      <td>0.842152</td>\n",
       "      <td>0.684326</td>\n",
       "      <td>0.007120</td>\n",
       "      <td>...</td>\n",
       "      <td>0.033928</td>\n",
       "      <td>0.332628</td>\n",
       "      <td>0.298370</td>\n",
       "      <td>0.451865</td>\n",
       "      <td>0.056720</td>\n",
       "      <td>0.027570</td>\n",
       "      <td>0.095763</td>\n",
       "      <td>0.051382</td>\n",
       "      <td>0.069802</td>\n",
       "      <td>0.051382</td>\n",
       "    </tr>\n",
       "    <tr>\n",
       "      <th>22.0</th>\n",
       "      <td>3.386619</td>\n",
       "      <td>14.476253</td>\n",
       "      <td>7.767385</td>\n",
       "      <td>0.028631</td>\n",
       "      <td>0.011309</td>\n",
       "      <td>0.007467</td>\n",
       "      <td>0.015362</td>\n",
       "      <td>1.817126</td>\n",
       "      <td>1.476583</td>\n",
       "      <td>0.015362</td>\n",
       "      <td>...</td>\n",
       "      <td>0.073207</td>\n",
       "      <td>0.717718</td>\n",
       "      <td>0.643798</td>\n",
       "      <td>0.974998</td>\n",
       "      <td>0.122386</td>\n",
       "      <td>0.059488</td>\n",
       "      <td>0.206629</td>\n",
       "      <td>0.110869</td>\n",
       "      <td>0.150612</td>\n",
       "      <td>0.110869</td>\n",
       "    </tr>\n",
       "    <tr>\n",
       "      <th>24.0</th>\n",
       "      <td>4.522616</td>\n",
       "      <td>19.332121</td>\n",
       "      <td>10.372852</td>\n",
       "      <td>0.038235</td>\n",
       "      <td>0.015102</td>\n",
       "      <td>0.009972</td>\n",
       "      <td>0.020516</td>\n",
       "      <td>2.426657</td>\n",
       "      <td>1.971884</td>\n",
       "      <td>0.020516</td>\n",
       "      <td>...</td>\n",
       "      <td>0.097764</td>\n",
       "      <td>0.958467</td>\n",
       "      <td>0.859751</td>\n",
       "      <td>1.302048</td>\n",
       "      <td>0.163439</td>\n",
       "      <td>0.079442</td>\n",
       "      <td>0.275940</td>\n",
       "      <td>0.148058</td>\n",
       "      <td>0.201133</td>\n",
       "      <td>0.148058</td>\n",
       "    </tr>\n",
       "    <tr>\n",
       "      <th>25.0</th>\n",
       "      <td>6.210701</td>\n",
       "      <td>26.547915</td>\n",
       "      <td>14.244561</td>\n",
       "      <td>0.052507</td>\n",
       "      <td>0.020739</td>\n",
       "      <td>0.013694</td>\n",
       "      <td>0.028173</td>\n",
       "      <td>3.332417</td>\n",
       "      <td>2.707897</td>\n",
       "      <td>0.028173</td>\n",
       "      <td>...</td>\n",
       "      <td>0.134255</td>\n",
       "      <td>1.316219</td>\n",
       "      <td>1.180657</td>\n",
       "      <td>1.788043</td>\n",
       "      <td>0.224443</td>\n",
       "      <td>0.109094</td>\n",
       "      <td>0.378936</td>\n",
       "      <td>0.203322</td>\n",
       "      <td>0.276207</td>\n",
       "      <td>0.203322</td>\n",
       "    </tr>\n",
       "    <tr>\n",
       "      <th>26.0</th>\n",
       "      <td>8.143806</td>\n",
       "      <td>34.811058</td>\n",
       "      <td>18.678237</td>\n",
       "      <td>0.068850</td>\n",
       "      <td>0.027194</td>\n",
       "      <td>0.017956</td>\n",
       "      <td>0.036942</td>\n",
       "      <td>4.369644</td>\n",
       "      <td>3.550741</td>\n",
       "      <td>0.036942</td>\n",
       "      <td>...</td>\n",
       "      <td>0.176042</td>\n",
       "      <td>1.725897</td>\n",
       "      <td>1.548141</td>\n",
       "      <td>2.344578</td>\n",
       "      <td>0.294302</td>\n",
       "      <td>0.143051</td>\n",
       "      <td>0.496881</td>\n",
       "      <td>0.266607</td>\n",
       "      <td>0.362177</td>\n",
       "      <td>0.266607</td>\n",
       "    </tr>\n",
       "    <tr>\n",
       "      <th>28.0</th>\n",
       "      <td>11.200022</td>\n",
       "      <td>47.874987</td>\n",
       "      <td>25.687825</td>\n",
       "      <td>0.094688</td>\n",
       "      <td>0.037399</td>\n",
       "      <td>0.024695</td>\n",
       "      <td>0.050806</td>\n",
       "      <td>6.009489</td>\n",
       "      <td>4.883266</td>\n",
       "      <td>0.050806</td>\n",
       "      <td>...</td>\n",
       "      <td>0.242107</td>\n",
       "      <td>2.373593</td>\n",
       "      <td>2.129129</td>\n",
       "      <td>3.224454</td>\n",
       "      <td>0.404748</td>\n",
       "      <td>0.196735</td>\n",
       "      <td>0.683351</td>\n",
       "      <td>0.366659</td>\n",
       "      <td>0.498095</td>\n",
       "      <td>0.366659</td>\n",
       "    </tr>\n",
       "    <tr>\n",
       "      <th>30.0</th>\n",
       "      <td>11.200022</td>\n",
       "      <td>47.874987</td>\n",
       "      <td>25.687825</td>\n",
       "      <td>0.094688</td>\n",
       "      <td>0.037399</td>\n",
       "      <td>0.024695</td>\n",
       "      <td>0.050806</td>\n",
       "      <td>6.009489</td>\n",
       "      <td>4.883266</td>\n",
       "      <td>0.050806</td>\n",
       "      <td>...</td>\n",
       "      <td>0.242107</td>\n",
       "      <td>2.373593</td>\n",
       "      <td>2.129129</td>\n",
       "      <td>3.224454</td>\n",
       "      <td>0.404748</td>\n",
       "      <td>0.196735</td>\n",
       "      <td>0.683351</td>\n",
       "      <td>0.366659</td>\n",
       "      <td>0.498095</td>\n",
       "      <td>0.366659</td>\n",
       "    </tr>\n",
       "    <tr>\n",
       "      <th>31.0</th>\n",
       "      <td>11.200022</td>\n",
       "      <td>47.874987</td>\n",
       "      <td>25.687825</td>\n",
       "      <td>0.094688</td>\n",
       "      <td>0.037399</td>\n",
       "      <td>0.024695</td>\n",
       "      <td>0.050806</td>\n",
       "      <td>6.009489</td>\n",
       "      <td>4.883266</td>\n",
       "      <td>0.050806</td>\n",
       "      <td>...</td>\n",
       "      <td>0.242107</td>\n",
       "      <td>2.373593</td>\n",
       "      <td>2.129129</td>\n",
       "      <td>3.224454</td>\n",
       "      <td>0.404748</td>\n",
       "      <td>0.196735</td>\n",
       "      <td>0.683351</td>\n",
       "      <td>0.366659</td>\n",
       "      <td>0.498095</td>\n",
       "      <td>0.366659</td>\n",
       "    </tr>\n",
       "    <tr>\n",
       "      <th>32.0</th>\n",
       "      <td>15.678875</td>\n",
       "      <td>67.020042</td>\n",
       "      <td>35.960304</td>\n",
       "      <td>0.132554</td>\n",
       "      <td>0.052355</td>\n",
       "      <td>0.034571</td>\n",
       "      <td>0.071123</td>\n",
       "      <td>8.412664</td>\n",
       "      <td>6.836069</td>\n",
       "      <td>0.071123</td>\n",
       "      <td>...</td>\n",
       "      <td>0.338925</td>\n",
       "      <td>3.322785</td>\n",
       "      <td>2.980561</td>\n",
       "      <td>4.513903</td>\n",
       "      <td>0.566606</td>\n",
       "      <td>0.275408</td>\n",
       "      <td>0.956620</td>\n",
       "      <td>0.513285</td>\n",
       "      <td>0.697282</td>\n",
       "      <td>0.513285</td>\n",
       "    </tr>\n",
       "    <tr>\n",
       "      <th>33.0</th>\n",
       "      <td>15.678875</td>\n",
       "      <td>67.020042</td>\n",
       "      <td>35.960304</td>\n",
       "      <td>0.132554</td>\n",
       "      <td>0.052355</td>\n",
       "      <td>0.034571</td>\n",
       "      <td>0.071123</td>\n",
       "      <td>8.412664</td>\n",
       "      <td>6.836069</td>\n",
       "      <td>0.071123</td>\n",
       "      <td>...</td>\n",
       "      <td>0.338925</td>\n",
       "      <td>3.322785</td>\n",
       "      <td>2.980561</td>\n",
       "      <td>4.513903</td>\n",
       "      <td>0.566606</td>\n",
       "      <td>0.275408</td>\n",
       "      <td>0.956620</td>\n",
       "      <td>0.513285</td>\n",
       "      <td>0.697282</td>\n",
       "      <td>0.513285</td>\n",
       "    </tr>\n",
       "    <tr>\n",
       "      <th>34.0</th>\n",
       "      <td>15.678875</td>\n",
       "      <td>67.020042</td>\n",
       "      <td>35.960304</td>\n",
       "      <td>0.132554</td>\n",
       "      <td>0.052355</td>\n",
       "      <td>0.034571</td>\n",
       "      <td>0.071123</td>\n",
       "      <td>8.412664</td>\n",
       "      <td>6.836069</td>\n",
       "      <td>0.071123</td>\n",
       "      <td>...</td>\n",
       "      <td>0.338925</td>\n",
       "      <td>3.322785</td>\n",
       "      <td>2.980561</td>\n",
       "      <td>4.513903</td>\n",
       "      <td>0.566606</td>\n",
       "      <td>0.275408</td>\n",
       "      <td>0.956620</td>\n",
       "      <td>0.513285</td>\n",
       "      <td>0.697282</td>\n",
       "      <td>0.513285</td>\n",
       "    </tr>\n",
       "    <tr>\n",
       "      <th>35.0</th>\n",
       "      <td>21.018257</td>\n",
       "      <td>89.843465</td>\n",
       "      <td>48.206450</td>\n",
       "      <td>0.177694</td>\n",
       "      <td>0.070185</td>\n",
       "      <td>0.046343</td>\n",
       "      <td>0.095344</td>\n",
       "      <td>11.277565</td>\n",
       "      <td>9.164067</td>\n",
       "      <td>0.095344</td>\n",
       "      <td>...</td>\n",
       "      <td>0.454345</td>\n",
       "      <td>4.454348</td>\n",
       "      <td>3.995580</td>\n",
       "      <td>6.051096</td>\n",
       "      <td>0.759561</td>\n",
       "      <td>0.369197</td>\n",
       "      <td>1.282394</td>\n",
       "      <td>0.688082</td>\n",
       "      <td>0.934738</td>\n",
       "      <td>0.688082</td>\n",
       "    </tr>\n",
       "    <tr>\n",
       "      <th>36.0</th>\n",
       "      <td>21.018257</td>\n",
       "      <td>89.843465</td>\n",
       "      <td>48.206450</td>\n",
       "      <td>0.177694</td>\n",
       "      <td>0.070185</td>\n",
       "      <td>0.046343</td>\n",
       "      <td>0.095344</td>\n",
       "      <td>11.277565</td>\n",
       "      <td>9.164067</td>\n",
       "      <td>0.095344</td>\n",
       "      <td>...</td>\n",
       "      <td>0.454345</td>\n",
       "      <td>4.454348</td>\n",
       "      <td>3.995580</td>\n",
       "      <td>6.051096</td>\n",
       "      <td>0.759561</td>\n",
       "      <td>0.369197</td>\n",
       "      <td>1.282394</td>\n",
       "      <td>0.688082</td>\n",
       "      <td>0.934738</td>\n",
       "      <td>0.688082</td>\n",
       "    </tr>\n",
       "    <tr>\n",
       "      <th>37.0</th>\n",
       "      <td>21.018257</td>\n",
       "      <td>89.843465</td>\n",
       "      <td>48.206450</td>\n",
       "      <td>0.177694</td>\n",
       "      <td>0.070185</td>\n",
       "      <td>0.046343</td>\n",
       "      <td>0.095344</td>\n",
       "      <td>11.277565</td>\n",
       "      <td>9.164067</td>\n",
       "      <td>0.095344</td>\n",
       "      <td>...</td>\n",
       "      <td>0.454345</td>\n",
       "      <td>4.454348</td>\n",
       "      <td>3.995580</td>\n",
       "      <td>6.051096</td>\n",
       "      <td>0.759561</td>\n",
       "      <td>0.369197</td>\n",
       "      <td>1.282394</td>\n",
       "      <td>0.688082</td>\n",
       "      <td>0.934738</td>\n",
       "      <td>0.688082</td>\n",
       "    </tr>\n",
       "    <tr>\n",
       "      <th>39.0</th>\n",
       "      <td>21.018257</td>\n",
       "      <td>89.843465</td>\n",
       "      <td>48.206450</td>\n",
       "      <td>0.177694</td>\n",
       "      <td>0.070185</td>\n",
       "      <td>0.046343</td>\n",
       "      <td>0.095344</td>\n",
       "      <td>11.277565</td>\n",
       "      <td>9.164067</td>\n",
       "      <td>0.095344</td>\n",
       "      <td>...</td>\n",
       "      <td>0.454345</td>\n",
       "      <td>4.454348</td>\n",
       "      <td>3.995580</td>\n",
       "      <td>6.051096</td>\n",
       "      <td>0.759561</td>\n",
       "      <td>0.369197</td>\n",
       "      <td>1.282394</td>\n",
       "      <td>0.688082</td>\n",
       "      <td>0.934738</td>\n",
       "      <td>0.688082</td>\n",
       "    </tr>\n",
       "    <tr>\n",
       "      <th>40.0</th>\n",
       "      <td>43.503972</td>\n",
       "      <td>185.959644</td>\n",
       "      <td>99.778591</td>\n",
       "      <td>0.367795</td>\n",
       "      <td>0.145269</td>\n",
       "      <td>0.095922</td>\n",
       "      <td>0.197344</td>\n",
       "      <td>23.342511</td>\n",
       "      <td>18.967953</td>\n",
       "      <td>0.197344</td>\n",
       "      <td>...</td>\n",
       "      <td>0.940412</td>\n",
       "      <td>9.219690</td>\n",
       "      <td>8.270124</td>\n",
       "      <td>12.524668</td>\n",
       "      <td>1.572154</td>\n",
       "      <td>0.764172</td>\n",
       "      <td>2.654322</td>\n",
       "      <td>1.424204</td>\n",
       "      <td>1.934738</td>\n",
       "      <td>1.424204</td>\n",
       "    </tr>\n",
       "  </tbody>\n",
       "</table>\n",
       "<p>20 rows × 26 columns</p>\n",
       "</div>"
      ],
      "text/plain": [
       "                 0           1          2         3         4         5   \\\n",
       "event_at                                                                   \n",
       "0.0        0.000000    0.000000   0.000000  0.000000  0.000000  0.000000   \n",
       "1.0        0.207440    0.886713   0.475775  0.001754  0.000693  0.000457   \n",
       "2.0        0.436442    1.865590   1.001002  0.003690  0.001457  0.000962   \n",
       "11.0       0.918781    3.927368   2.107270  0.007768  0.003068  0.002026   \n",
       "14.0       1.569538    6.709059   3.599816  0.013269  0.005241  0.003461   \n",
       "22.0       3.386619   14.476253   7.767385  0.028631  0.011309  0.007467   \n",
       "24.0       4.522616   19.332121  10.372852  0.038235  0.015102  0.009972   \n",
       "25.0       6.210701   26.547915  14.244561  0.052507  0.020739  0.013694   \n",
       "26.0       8.143806   34.811058  18.678237  0.068850  0.027194  0.017956   \n",
       "28.0      11.200022   47.874987  25.687825  0.094688  0.037399  0.024695   \n",
       "30.0      11.200022   47.874987  25.687825  0.094688  0.037399  0.024695   \n",
       "31.0      11.200022   47.874987  25.687825  0.094688  0.037399  0.024695   \n",
       "32.0      15.678875   67.020042  35.960304  0.132554  0.052355  0.034571   \n",
       "33.0      15.678875   67.020042  35.960304  0.132554  0.052355  0.034571   \n",
       "34.0      15.678875   67.020042  35.960304  0.132554  0.052355  0.034571   \n",
       "35.0      21.018257   89.843465  48.206450  0.177694  0.070185  0.046343   \n",
       "36.0      21.018257   89.843465  48.206450  0.177694  0.070185  0.046343   \n",
       "37.0      21.018257   89.843465  48.206450  0.177694  0.070185  0.046343   \n",
       "39.0      21.018257   89.843465  48.206450  0.177694  0.070185  0.046343   \n",
       "40.0      43.503972  185.959644  99.778591  0.367795  0.145269  0.095922   \n",
       "\n",
       "                6          7          8         9     ...           16  \\\n",
       "event_at                                              ...                \n",
       "0.0       0.000000   0.000000   0.000000  0.000000    ...     0.000000   \n",
       "1.0       0.000941   0.111304   0.090445  0.000941    ...     0.004484   \n",
       "2.0       0.001980   0.234177   0.190291  0.001980    ...     0.009434   \n",
       "11.0      0.004168   0.492981   0.400593  0.004168    ...     0.019861   \n",
       "14.0      0.007120   0.842152   0.684326  0.007120    ...     0.033928   \n",
       "22.0      0.015362   1.817126   1.476583  0.015362    ...     0.073207   \n",
       "24.0      0.020516   2.426657   1.971884  0.020516    ...     0.097764   \n",
       "25.0      0.028173   3.332417   2.707897  0.028173    ...     0.134255   \n",
       "26.0      0.036942   4.369644   3.550741  0.036942    ...     0.176042   \n",
       "28.0      0.050806   6.009489   4.883266  0.050806    ...     0.242107   \n",
       "30.0      0.050806   6.009489   4.883266  0.050806    ...     0.242107   \n",
       "31.0      0.050806   6.009489   4.883266  0.050806    ...     0.242107   \n",
       "32.0      0.071123   8.412664   6.836069  0.071123    ...     0.338925   \n",
       "33.0      0.071123   8.412664   6.836069  0.071123    ...     0.338925   \n",
       "34.0      0.071123   8.412664   6.836069  0.071123    ...     0.338925   \n",
       "35.0      0.095344  11.277565   9.164067  0.095344    ...     0.454345   \n",
       "36.0      0.095344  11.277565   9.164067  0.095344    ...     0.454345   \n",
       "37.0      0.095344  11.277565   9.164067  0.095344    ...     0.454345   \n",
       "39.0      0.095344  11.277565   9.164067  0.095344    ...     0.454345   \n",
       "40.0      0.197344  23.342511  18.967953  0.197344    ...     0.940412   \n",
       "\n",
       "                17        18         19        20        21        22  \\\n",
       "event_at                                                                \n",
       "0.0       0.000000  0.000000   0.000000  0.000000  0.000000  0.000000   \n",
       "1.0       0.043962  0.039434   0.059721  0.007497  0.003644  0.012657   \n",
       "2.0       0.092494  0.082968   0.125650  0.015772  0.007666  0.026629   \n",
       "11.0      0.194715  0.174661   0.264514  0.033203  0.016139  0.056058   \n",
       "14.0      0.332628  0.298370   0.451865  0.056720  0.027570  0.095763   \n",
       "22.0      0.717718  0.643798   0.974998  0.122386  0.059488  0.206629   \n",
       "24.0      0.958467  0.859751   1.302048  0.163439  0.079442  0.275940   \n",
       "25.0      1.316219  1.180657   1.788043  0.224443  0.109094  0.378936   \n",
       "26.0      1.725897  1.548141   2.344578  0.294302  0.143051  0.496881   \n",
       "28.0      2.373593  2.129129   3.224454  0.404748  0.196735  0.683351   \n",
       "30.0      2.373593  2.129129   3.224454  0.404748  0.196735  0.683351   \n",
       "31.0      2.373593  2.129129   3.224454  0.404748  0.196735  0.683351   \n",
       "32.0      3.322785  2.980561   4.513903  0.566606  0.275408  0.956620   \n",
       "33.0      3.322785  2.980561   4.513903  0.566606  0.275408  0.956620   \n",
       "34.0      3.322785  2.980561   4.513903  0.566606  0.275408  0.956620   \n",
       "35.0      4.454348  3.995580   6.051096  0.759561  0.369197  1.282394   \n",
       "36.0      4.454348  3.995580   6.051096  0.759561  0.369197  1.282394   \n",
       "37.0      4.454348  3.995580   6.051096  0.759561  0.369197  1.282394   \n",
       "39.0      4.454348  3.995580   6.051096  0.759561  0.369197  1.282394   \n",
       "40.0      9.219690  8.270124  12.524668  1.572154  0.764172  2.654322   \n",
       "\n",
       "                23        24        25  \n",
       "event_at                                \n",
       "0.0       0.000000  0.000000  0.000000  \n",
       "1.0       0.006791  0.009225  0.006791  \n",
       "2.0       0.014288  0.019410  0.014288  \n",
       "11.0      0.030078  0.040861  0.030078  \n",
       "14.0      0.051382  0.069802  0.051382  \n",
       "22.0      0.110869  0.150612  0.110869  \n",
       "24.0      0.148058  0.201133  0.148058  \n",
       "25.0      0.203322  0.276207  0.203322  \n",
       "26.0      0.266607  0.362177  0.266607  \n",
       "28.0      0.366659  0.498095  0.366659  \n",
       "30.0      0.366659  0.498095  0.366659  \n",
       "31.0      0.366659  0.498095  0.366659  \n",
       "32.0      0.513285  0.697282  0.513285  \n",
       "33.0      0.513285  0.697282  0.513285  \n",
       "34.0      0.513285  0.697282  0.513285  \n",
       "35.0      0.688082  0.934738  0.688082  \n",
       "36.0      0.688082  0.934738  0.688082  \n",
       "37.0      0.688082  0.934738  0.688082  \n",
       "39.0      0.688082  0.934738  0.688082  \n",
       "40.0      1.424204  1.934738  1.424204  \n",
       "\n",
       "[20 rows x 26 columns]"
      ]
     },
     "execution_count": 138,
     "metadata": {},
     "output_type": "execute_result"
    }
   ],
   "source": [
    "cph.predict_cumulative_hazard(df)"
   ]
  },
  {
   "cell_type": "code",
   "execution_count": 135,
   "metadata": {},
   "outputs": [
    {
     "data": {
      "text/html": [
       "<div>\n",
       "<style scoped>\n",
       "    .dataframe tbody tr th:only-of-type {\n",
       "        vertical-align: middle;\n",
       "    }\n",
       "\n",
       "    .dataframe tbody tr th {\n",
       "        vertical-align: top;\n",
       "    }\n",
       "\n",
       "    .dataframe thead th {\n",
       "        text-align: right;\n",
       "    }\n",
       "</style>\n",
       "<table border=\"1\" class=\"dataframe\">\n",
       "  <thead>\n",
       "    <tr style=\"text-align: right;\">\n",
       "      <th></th>\n",
       "      <th>0</th>\n",
       "    </tr>\n",
       "  </thead>\n",
       "  <tbody>\n",
       "    <tr>\n",
       "      <th>0</th>\n",
       "      <td>1</td>\n",
       "    </tr>\n",
       "    <tr>\n",
       "      <th>1</th>\n",
       "      <td>2</td>\n",
       "    </tr>\n",
       "    <tr>\n",
       "      <th>2</th>\n",
       "      <td>3</td>\n",
       "    </tr>\n",
       "    <tr>\n",
       "      <th>3</th>\n",
       "      <td>1</td>\n",
       "    </tr>\n",
       "  </tbody>\n",
       "</table>\n",
       "</div>"
      ],
      "text/plain": [
       "   0\n",
       "0  1\n",
       "1  2\n",
       "2  3\n",
       "3  1"
      ]
     },
     "execution_count": 135,
     "metadata": {},
     "output_type": "execute_result"
    }
   ],
   "source": [
    "pd.DataFrame(np.array([1,2,3,1]))"
   ]
  },
  {
   "cell_type": "code",
   "execution_count": 136,
   "metadata": {},
   "outputs": [],
   "source": [
    "x =np.array([23,45,0,1])"
   ]
  },
  {
   "cell_type": "code",
   "execution_count": null,
   "metadata": {
    "collapsed": true
   },
   "outputs": [],
   "source": [
    "np.array()"
   ]
  }
 ],
 "metadata": {
  "kernelspec": {
   "display_name": "Python 2",
   "language": "python",
   "name": "python2"
  },
  "language_info": {
   "codemirror_mode": {
    "name": "ipython",
    "version": 2
   },
   "file_extension": ".py",
   "mimetype": "text/x-python",
   "name": "python",
   "nbconvert_exporter": "python",
   "pygments_lexer": "ipython2",
   "version": "2.7.14"
  }
 },
 "nbformat": 4,
 "nbformat_minor": 2
}
